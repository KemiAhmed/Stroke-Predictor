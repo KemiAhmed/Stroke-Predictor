{
  "nbformat": 4,
  "nbformat_minor": 0,
  "metadata": {
    "colab": {
      "provenance": [],
      "authorship_tag": "ABX9TyPnrMP5WS6r9Sn3qXfyqBhx",
      "include_colab_link": true
    },
    "kernelspec": {
      "name": "ir",
      "display_name": "R"
    },
    "language_info": {
      "name": "R"
    }
  },
  "cells": [
    {
      "cell_type": "markdown",
      "metadata": {
        "id": "view-in-github",
        "colab_type": "text"
      },
      "source": [
        "<a href=\"https://colab.research.google.com/github/KemiAhmed/Stroke-Predictor/blob/main/Model_performance_before_balancing.ipynb\" target=\"_parent\"><img src=\"https://colab.research.google.com/assets/colab-badge.svg\" alt=\"Open In Colab\"/></a>"
      ]
    },
    {
      "cell_type": "code",
      "execution_count": 1,
      "metadata": {
        "colab": {
          "base_uri": "https://localhost:8080/"
        },
        "id": "ZMBpzAZwGJH7",
        "outputId": "bd909369-bce0-4b25-d831-fcc3eaadd3e7"
      },
      "outputs": [
        {
          "output_type": "stream",
          "name": "stderr",
          "text": [
            "Installing package into ‘/usr/local/lib/R/site-library’\n",
            "(as ‘lib’ is unspecified)\n",
            "\n"
          ]
        }
      ],
      "source": [
        "install.packages(\"tidyverse\")"
      ]
    },
    {
      "cell_type": "code",
      "source": [
        "install.packages(\"caret\")"
      ],
      "metadata": {
        "colab": {
          "base_uri": "https://localhost:8080/"
        },
        "id": "f6uy0JSBGZxQ",
        "outputId": "15752acc-b143-4b97-a52a-d69e86235115"
      },
      "execution_count": 2,
      "outputs": [
        {
          "output_type": "stream",
          "name": "stderr",
          "text": [
            "Installing package into ‘/usr/local/lib/R/site-library’\n",
            "(as ‘lib’ is unspecified)\n",
            "\n",
            "also installing the dependencies ‘listenv’, ‘parallelly’, ‘future’, ‘globals’, ‘shape’, ‘future.apply’, ‘numDeriv’, ‘progressr’, ‘SQUAREM’, ‘diagram’, ‘lava’, ‘prodlim’, ‘proxy’, ‘iterators’, ‘clock’, ‘gower’, ‘hardhat’, ‘ipred’, ‘sparsevctrs’, ‘timeDate’, ‘e1071’, ‘foreach’, ‘ModelMetrics’, ‘plyr’, ‘pROC’, ‘recipes’, ‘reshape2’\n",
            "\n",
            "\n"
          ]
        }
      ]
    },
    {
      "cell_type": "code",
      "source": [
        "install.packages(\"class\")  # Install the package if not already installed\n",
        "            # Load the package"
      ],
      "metadata": {
        "colab": {
          "base_uri": "https://localhost:8080/"
        },
        "id": "GBXflL8pKg0C",
        "outputId": "fabab8d3-a53d-4556-ce00-a8b55878b24c"
      },
      "execution_count": 24,
      "outputs": [
        {
          "output_type": "stream",
          "name": "stderr",
          "text": [
            "Installing package into ‘/usr/local/lib/R/site-library’\n",
            "(as ‘lib’ is unspecified)\n",
            "\n"
          ]
        }
      ]
    },
    {
      "cell_type": "code",
      "source": [
        "install.packages(\"VIM\")\n"
      ],
      "metadata": {
        "colab": {
          "base_uri": "https://localhost:8080/"
        },
        "id": "3tvwIXZqLHE4",
        "outputId": "91d0ff4a-0f01-4818-c9d0-d3b07a410219"
      },
      "execution_count": 29,
      "outputs": [
        {
          "output_type": "stream",
          "name": "stderr",
          "text": [
            "Installing package into ‘/usr/local/lib/R/site-library’\n",
            "(as ‘lib’ is unspecified)\n",
            "\n",
            "also installing the dependencies ‘rbibutils’, ‘cowplot’, ‘Deriv’, ‘microbenchmark’, ‘Rdpack’, ‘doBy’, ‘SparseM’, ‘MatrixModels’, ‘minqa’, ‘nloptr’, ‘reformulas’, ‘zoo’, ‘carData’, ‘abind’, ‘Formula’, ‘pbkrtest’, ‘quantreg’, ‘lme4’, ‘DEoptimR’, ‘lmtest’, ‘RcppEigen’, ‘car’, ‘robustbase’, ‘sp’, ‘vcd’, ‘laeken’, ‘ranger’\n",
            "\n",
            "\n",
            "Loading required package: colorspace\n",
            "\n",
            "\n",
            "Attaching package: ‘colorspace’\n",
            "\n",
            "\n",
            "The following object is masked from ‘package:pROC’:\n",
            "\n",
            "    coords\n",
            "\n",
            "\n",
            "Loading required package: grid\n",
            "\n",
            "VIM is ready to use.\n",
            "\n",
            "\n",
            "Suggestions and bug-reports can be submitted at: https://github.com/statistikat/VIM/issues\n",
            "\n",
            "\n",
            "Attaching package: ‘VIM’\n",
            "\n",
            "\n",
            "The following object is masked from ‘package:datasets’:\n",
            "\n",
            "    sleep\n",
            "\n",
            "\n"
          ]
        }
      ]
    },
    {
      "cell_type": "code",
      "source": [
        "library(VIM)"
      ],
      "metadata": {
        "id": "dIG2TWocNGUg"
      },
      "execution_count": 30,
      "outputs": []
    },
    {
      "cell_type": "code",
      "source": [
        "library(class)"
      ],
      "metadata": {
        "id": "sUUGo7GoKj29"
      },
      "execution_count": 25,
      "outputs": []
    },
    {
      "cell_type": "code",
      "source": [
        "install.packages(\"ggplot2\")"
      ],
      "metadata": {
        "colab": {
          "base_uri": "https://localhost:8080/"
        },
        "id": "S_0Q08VwGfJZ",
        "outputId": "b169e240-b0b2-44cf-e53b-cf57cbdbc98e"
      },
      "execution_count": 3,
      "outputs": [
        {
          "output_type": "stream",
          "name": "stderr",
          "text": [
            "Installing package into ‘/usr/local/lib/R/site-library’\n",
            "(as ‘lib’ is unspecified)\n",
            "\n"
          ]
        }
      ]
    },
    {
      "cell_type": "code",
      "source": [
        "install.packages(\"randomForest\")\n"
      ],
      "metadata": {
        "colab": {
          "base_uri": "https://localhost:8080/"
        },
        "id": "AUWxaWhZGobM",
        "outputId": "0cf3f15a-885a-42df-a293-795eb13bb717"
      },
      "execution_count": 4,
      "outputs": [
        {
          "output_type": "stream",
          "name": "stderr",
          "text": [
            "Installing package into ‘/usr/local/lib/R/site-library’\n",
            "(as ‘lib’ is unspecified)\n",
            "\n"
          ]
        }
      ]
    },
    {
      "cell_type": "code",
      "source": [
        "install.packages(\"pROC\")"
      ],
      "metadata": {
        "colab": {
          "base_uri": "https://localhost:8080/"
        },
        "id": "RKH4BhELIRyr",
        "outputId": "8dd9260b-4261-4194-ed4a-c112d86583d9"
      },
      "execution_count": 5,
      "outputs": [
        {
          "output_type": "stream",
          "name": "stderr",
          "text": [
            "Installing package into ‘/usr/local/lib/R/site-library’\n",
            "(as ‘lib’ is unspecified)\n",
            "\n"
          ]
        }
      ]
    },
    {
      "cell_type": "code",
      "source": [
        "# Load the libraries\n",
        "library(tidyverse)\n",
        "library(caret)\n",
        "library(randomForest)\n",
        "library(pROC)\n",
        "library(ggplot2)"
      ],
      "metadata": {
        "id": "exp215AoIYT4"
      },
      "execution_count": 11,
      "outputs": []
    },
    {
      "cell_type": "code",
      "source": [
        "# Load data\n",
        "stroke_data <- read.csv(\"stroke_dataset.csv\")"
      ],
      "metadata": {
        "id": "yOpM7sv6IYHx"
      },
      "execution_count": 7,
      "outputs": []
    },
    {
      "cell_type": "code",
      "source": [
        "# Display the first few rows of the dataset\n",
        "head(stroke_data)"
      ],
      "metadata": {
        "colab": {
          "base_uri": "https://localhost:8080/",
          "height": 286
        },
        "id": "FgHkECe9IrO2",
        "outputId": "dd600d8e-19bb-4a14-f259-bf57503a81da"
      },
      "execution_count": 8,
      "outputs": [
        {
          "output_type": "display_data",
          "data": {
            "text/html": [
              "<table class=\"dataframe\">\n",
              "<caption>A data.frame: 6 × 12</caption>\n",
              "<thead>\n",
              "\t<tr><th></th><th scope=col>id</th><th scope=col>gender</th><th scope=col>age</th><th scope=col>hypertension</th><th scope=col>heart_disease</th><th scope=col>ever_married</th><th scope=col>work_type</th><th scope=col>Residence_type</th><th scope=col>avg_glucose_level</th><th scope=col>bmi</th><th scope=col>smoking_status</th><th scope=col>stroke</th></tr>\n",
              "\t<tr><th></th><th scope=col>&lt;int&gt;</th><th scope=col>&lt;chr&gt;</th><th scope=col>&lt;dbl&gt;</th><th scope=col>&lt;int&gt;</th><th scope=col>&lt;int&gt;</th><th scope=col>&lt;chr&gt;</th><th scope=col>&lt;chr&gt;</th><th scope=col>&lt;chr&gt;</th><th scope=col>&lt;dbl&gt;</th><th scope=col>&lt;chr&gt;</th><th scope=col>&lt;chr&gt;</th><th scope=col>&lt;int&gt;</th></tr>\n",
              "</thead>\n",
              "<tbody>\n",
              "\t<tr><th scope=row>1</th><td> 9046</td><td>Male  </td><td>67</td><td>0</td><td>1</td><td>Yes</td><td>Private      </td><td>Urban</td><td>228.69</td><td>36.6</td><td>formerly smoked</td><td>1</td></tr>\n",
              "\t<tr><th scope=row>2</th><td>51676</td><td>Female</td><td>61</td><td>0</td><td>0</td><td>Yes</td><td>Self-employed</td><td>Rural</td><td>202.21</td><td>N/A </td><td>never smoked   </td><td>1</td></tr>\n",
              "\t<tr><th scope=row>3</th><td>31112</td><td>Male  </td><td>80</td><td>0</td><td>1</td><td>Yes</td><td>Private      </td><td>Rural</td><td>105.92</td><td>32.5</td><td>never smoked   </td><td>1</td></tr>\n",
              "\t<tr><th scope=row>4</th><td>60182</td><td>Female</td><td>49</td><td>0</td><td>0</td><td>Yes</td><td>Private      </td><td>Urban</td><td>171.23</td><td>34.4</td><td>smokes         </td><td>1</td></tr>\n",
              "\t<tr><th scope=row>5</th><td> 1665</td><td>Female</td><td>79</td><td>1</td><td>0</td><td>Yes</td><td>Self-employed</td><td>Rural</td><td>174.12</td><td>24  </td><td>never smoked   </td><td>1</td></tr>\n",
              "\t<tr><th scope=row>6</th><td>56669</td><td>Male  </td><td>81</td><td>0</td><td>0</td><td>Yes</td><td>Private      </td><td>Urban</td><td>186.21</td><td>29  </td><td>formerly smoked</td><td>1</td></tr>\n",
              "</tbody>\n",
              "</table>\n"
            ],
            "text/markdown": "\nA data.frame: 6 × 12\n\n| <!--/--> | id &lt;int&gt; | gender &lt;chr&gt; | age &lt;dbl&gt; | hypertension &lt;int&gt; | heart_disease &lt;int&gt; | ever_married &lt;chr&gt; | work_type &lt;chr&gt; | Residence_type &lt;chr&gt; | avg_glucose_level &lt;dbl&gt; | bmi &lt;chr&gt; | smoking_status &lt;chr&gt; | stroke &lt;int&gt; |\n|---|---|---|---|---|---|---|---|---|---|---|---|---|\n| 1 |  9046 | Male   | 67 | 0 | 1 | Yes | Private       | Urban | 228.69 | 36.6 | formerly smoked | 1 |\n| 2 | 51676 | Female | 61 | 0 | 0 | Yes | Self-employed | Rural | 202.21 | N/A  | never smoked    | 1 |\n| 3 | 31112 | Male   | 80 | 0 | 1 | Yes | Private       | Rural | 105.92 | 32.5 | never smoked    | 1 |\n| 4 | 60182 | Female | 49 | 0 | 0 | Yes | Private       | Urban | 171.23 | 34.4 | smokes          | 1 |\n| 5 |  1665 | Female | 79 | 1 | 0 | Yes | Self-employed | Rural | 174.12 | 24   | never smoked    | 1 |\n| 6 | 56669 | Male   | 81 | 0 | 0 | Yes | Private       | Urban | 186.21 | 29   | formerly smoked | 1 |\n\n",
            "text/latex": "A data.frame: 6 × 12\n\\begin{tabular}{r|llllllllllll}\n  & id & gender & age & hypertension & heart\\_disease & ever\\_married & work\\_type & Residence\\_type & avg\\_glucose\\_level & bmi & smoking\\_status & stroke\\\\\n  & <int> & <chr> & <dbl> & <int> & <int> & <chr> & <chr> & <chr> & <dbl> & <chr> & <chr> & <int>\\\\\n\\hline\n\t1 &  9046 & Male   & 67 & 0 & 1 & Yes & Private       & Urban & 228.69 & 36.6 & formerly smoked & 1\\\\\n\t2 & 51676 & Female & 61 & 0 & 0 & Yes & Self-employed & Rural & 202.21 & N/A  & never smoked    & 1\\\\\n\t3 & 31112 & Male   & 80 & 0 & 1 & Yes & Private       & Rural & 105.92 & 32.5 & never smoked    & 1\\\\\n\t4 & 60182 & Female & 49 & 0 & 0 & Yes & Private       & Urban & 171.23 & 34.4 & smokes          & 1\\\\\n\t5 &  1665 & Female & 79 & 1 & 0 & Yes & Self-employed & Rural & 174.12 & 24   & never smoked    & 1\\\\\n\t6 & 56669 & Male   & 81 & 0 & 0 & Yes & Private       & Urban & 186.21 & 29   & formerly smoked & 1\\\\\n\\end{tabular}\n",
            "text/plain": [
              "  id    gender age hypertension heart_disease ever_married work_type    \n",
              "1  9046 Male   67  0            1             Yes          Private      \n",
              "2 51676 Female 61  0            0             Yes          Self-employed\n",
              "3 31112 Male   80  0            1             Yes          Private      \n",
              "4 60182 Female 49  0            0             Yes          Private      \n",
              "5  1665 Female 79  1            0             Yes          Self-employed\n",
              "6 56669 Male   81  0            0             Yes          Private      \n",
              "  Residence_type avg_glucose_level bmi  smoking_status  stroke\n",
              "1 Urban          228.69            36.6 formerly smoked 1     \n",
              "2 Rural          202.21            N/A  never smoked    1     \n",
              "3 Rural          105.92            32.5 never smoked    1     \n",
              "4 Urban          171.23            34.4 smokes          1     \n",
              "5 Rural          174.12            24   never smoked    1     \n",
              "6 Urban          186.21            29   formerly smoked 1     "
            ]
          },
          "metadata": {}
        }
      ]
    },
    {
      "cell_type": "code",
      "source": [
        "# Check for missing values\n",
        "colSums(is.na(stroke_data))\n",
        "\n",
        "# Handle missing values (e.g., impute or remove)\n",
        "# For simplicity, let's remove rows with missing values\n",
        "stroke_data <- stroke_data %>% drop_na()\n",
        "\n",
        "# Convert categorical variables to factors\n",
        "stroke_data <- stroke_data %>%\n",
        "  mutate(\n",
        "    gender = as.factor(gender),\n",
        "    hypertension = as.factor(hypertension),\n",
        "    heart_disease = as.factor(heart_disease),\n",
        "    ever_married = as.factor(ever_married),\n",
        "    work_type = as.factor(work_type),\n",
        "    Residence_type = as.factor(Residence_type),\n",
        "    smoking_status = as.factor(smoking_status),\n",
        "    stroke = as.factor(stroke)\n",
        "  )\n",
        "\n",
        "# Check the structure of the dataset\n",
        "str(stroke_data)"
      ],
      "metadata": {
        "colab": {
          "base_uri": "https://localhost:8080/",
          "height": 260
        },
        "id": "FryHcQnyIrUP",
        "outputId": "59200083-c7e8-4f53-cfb3-4c1d8b8fe4a2"
      },
      "execution_count": 9,
      "outputs": [
        {
          "output_type": "display_data",
          "data": {
            "text/html": [
              "<style>\n",
              ".dl-inline {width: auto; margin:0; padding: 0}\n",
              ".dl-inline>dt, .dl-inline>dd {float: none; width: auto; display: inline-block}\n",
              ".dl-inline>dt::after {content: \":\\0020\"; padding-right: .5ex}\n",
              ".dl-inline>dt:not(:first-of-type) {padding-left: .5ex}\n",
              "</style><dl class=dl-inline><dt>id</dt><dd>0</dd><dt>gender</dt><dd>0</dd><dt>age</dt><dd>0</dd><dt>hypertension</dt><dd>0</dd><dt>heart_disease</dt><dd>0</dd><dt>ever_married</dt><dd>0</dd><dt>work_type</dt><dd>0</dd><dt>Residence_type</dt><dd>0</dd><dt>avg_glucose_level</dt><dd>0</dd><dt>bmi</dt><dd>0</dd><dt>smoking_status</dt><dd>0</dd><dt>stroke</dt><dd>0</dd></dl>\n"
            ],
            "text/markdown": "id\n:   0gender\n:   0age\n:   0hypertension\n:   0heart_disease\n:   0ever_married\n:   0work_type\n:   0Residence_type\n:   0avg_glucose_level\n:   0bmi\n:   0smoking_status\n:   0stroke\n:   0\n\n",
            "text/latex": "\\begin{description*}\n\\item[id] 0\n\\item[gender] 0\n\\item[age] 0\n\\item[hypertension] 0\n\\item[heart\\textbackslash{}\\_disease] 0\n\\item[ever\\textbackslash{}\\_married] 0\n\\item[work\\textbackslash{}\\_type] 0\n\\item[Residence\\textbackslash{}\\_type] 0\n\\item[avg\\textbackslash{}\\_glucose\\textbackslash{}\\_level] 0\n\\item[bmi] 0\n\\item[smoking\\textbackslash{}\\_status] 0\n\\item[stroke] 0\n\\end{description*}\n",
            "text/plain": [
              "               id            gender               age      hypertension \n",
              "                0                 0                 0                 0 \n",
              "    heart_disease      ever_married         work_type    Residence_type \n",
              "                0                 0                 0                 0 \n",
              "avg_glucose_level               bmi    smoking_status            stroke \n",
              "                0                 0                 0                 0 "
            ]
          },
          "metadata": {}
        },
        {
          "output_type": "stream",
          "name": "stdout",
          "text": [
            "'data.frame':\t5110 obs. of  12 variables:\n",
            " $ id               : int  9046 51676 31112 60182 1665 56669 53882 10434 27419 60491 ...\n",
            " $ gender           : Factor w/ 3 levels \"Female\",\"Male\",..: 2 1 2 1 1 2 2 1 1 1 ...\n",
            " $ age              : num  67 61 80 49 79 81 74 69 59 78 ...\n",
            " $ hypertension     : Factor w/ 2 levels \"0\",\"1\": 1 1 1 1 2 1 2 1 1 1 ...\n",
            " $ heart_disease    : Factor w/ 2 levels \"0\",\"1\": 2 1 2 1 1 1 2 1 1 1 ...\n",
            " $ ever_married     : Factor w/ 2 levels \"No\",\"Yes\": 2 2 2 2 2 2 2 1 2 2 ...\n",
            " $ work_type        : Factor w/ 5 levels \"children\",\"Govt_job\",..: 4 5 4 4 5 4 4 4 4 4 ...\n",
            " $ Residence_type   : Factor w/ 2 levels \"Rural\",\"Urban\": 2 1 1 2 1 2 1 2 1 2 ...\n",
            " $ avg_glucose_level: num  229 202 106 171 174 ...\n",
            " $ bmi              : chr  \"36.6\" \"N/A\" \"32.5\" \"34.4\" ...\n",
            " $ smoking_status   : Factor w/ 4 levels \"formerly smoked\",..: 1 2 2 3 2 1 2 2 4 4 ...\n",
            " $ stroke           : Factor w/ 2 levels \"0\",\"1\": 2 2 2 2 2 2 2 2 2 2 ...\n"
          ]
        }
      ]
    },
    {
      "cell_type": "code",
      "source": [
        "# Summary statistics\n",
        "summary(stroke_data)\n",
        "\n",
        "# Distribution of the target variable (stroke)\n",
        "ggplot(stroke_data, aes(x = stroke)) +\n",
        "  geom_bar() +\n",
        "  theme_minimal() +\n",
        "  labs(title = \"Distribution of Stroke\", x = \"Stroke\", y = \"Count\")\n",
        "\n"
      ],
      "metadata": {
        "colab": {
          "base_uri": "https://localhost:8080/",
          "height": 854
        },
        "id": "k1RoH8LLIrXU",
        "outputId": "8cac1aa3-9131-4444-ddcc-c3e98727ae24"
      },
      "execution_count": 26,
      "outputs": [
        {
          "output_type": "display_data",
          "data": {
            "text/plain": [
              "       id           gender          age        hypertension heart_disease\n",
              " Min.   :   67   Female:2994   Min.   : 0.08   0:4612       0:4834       \n",
              " 1st Qu.:17741   Male  :2115   1st Qu.:25.00   1: 498       1: 276       \n",
              " Median :36932   Other :   1   Median :45.00                             \n",
              " Mean   :36518                 Mean   :43.23                             \n",
              " 3rd Qu.:54682                 3rd Qu.:61.00                             \n",
              " Max.   :72940                 Max.   :82.00                             \n",
              "                                                                         \n",
              " ever_married         work_type    Residence_type avg_glucose_level\n",
              " No :1757     children     : 687   Rural:2514     Min.   : 55.12   \n",
              " Yes:3353     Govt_job     : 657   Urban:2596     1st Qu.: 77.25   \n",
              "              Never_worked :  22                  Median : 91.89   \n",
              "              Private      :2925                  Mean   :106.15   \n",
              "              Self-employed: 819                  3rd Qu.:114.09   \n",
              "                                                  Max.   :271.74   \n",
              "                                                                   \n",
              "      bmi                smoking_status stroke  \n",
              " Min.   :10.30   formerly smoked: 885   0:4861  \n",
              " 1st Qu.:23.50   never smoked   :1892   1: 249  \n",
              " Median :28.10   smokes         : 789           \n",
              " Mean   :28.89   Unknown        :1544           \n",
              " 3rd Qu.:33.10                                  \n",
              " Max.   :97.60                                  \n",
              " NA's   :201                                    "
            ]
          },
          "metadata": {}
        },
        {
          "output_type": "display_data",
          "data": {
            "text/plain": [
              "plot without title"
            ],
            "image/png": "[encoded data removed]"
          },
          "metadata": {
            "image/png": {
              "width": 420,
              "height": 420
            }
          }
        }
      ]
    },
    {
      "cell_type": "code",
      "source": [
        "# Correlation matrix for numerical variables\n",
        "numeric_data <- stroke_data %>% select(age, avg_glucose_level)\n",
        "cor_matrix <- cor(numeric_data, use = \"complete.obs\")\n",
        "print(cor_matrix)"
      ],
      "metadata": {
        "colab": {
          "base_uri": "https://localhost:8080/"
        },
        "id": "swuHdGq1Irak",
        "outputId": "e635ec0c-043c-4bdf-832e-2d338d7ca507"
      },
      "execution_count": 27,
      "outputs": [
        {
          "output_type": "stream",
          "name": "stdout",
          "text": [
            "                        age avg_glucose_level\n",
            "age               1.0000000         0.2381711\n",
            "avg_glucose_level 0.2381711         1.0000000\n"
          ]
        }
      ]
    },
    {
      "cell_type": "code",
      "source": [
        "install.packages(\"naniar\")\n"
      ],
      "metadata": {
        "colab": {
          "base_uri": "https://localhost:8080/"
        },
        "id": "fnWNFimtIrdR",
        "outputId": "63818f1f-8623-4c25-a83a-8f5669ef3776"
      },
      "execution_count": 16,
      "outputs": [
        {
          "output_type": "stream",
          "name": "stderr",
          "text": [
            "Installing package into ‘/usr/local/lib/R/site-library’\n",
            "(as ‘lib’ is unspecified)\n",
            "\n",
            "also installing the dependencies ‘gridExtra’, ‘norm’, ‘visdat’, ‘viridis’, ‘UpSetR’\n",
            "\n",
            "\n"
          ]
        }
      ]
    },
    {
      "cell_type": "code",
      "source": [
        "library(naniar)"
      ],
      "metadata": {
        "id": "1iJ-U5N7JiTK"
      },
      "execution_count": 19,
      "outputs": []
    },
    {
      "cell_type": "code",
      "source": [
        "miss_scan_count(stroke_data, search = list( \"N/A\"))\n"
      ],
      "metadata": {
        "colab": {
          "base_uri": "https://localhost:8080/",
          "height": 474
        },
        "id": "-lF9mjzdJiWY",
        "outputId": "aa0ccc1d-cdfa-4645-aeef-072d8c69fac8"
      },
      "execution_count": 20,
      "outputs": [
        {
          "output_type": "display_data",
          "data": {
            "text/html": [
              "<table class=\"dataframe\">\n",
              "<caption>A tibble: 12 × 2</caption>\n",
              "<thead>\n",
              "\t<tr><th scope=col>Variable</th><th scope=col>n</th></tr>\n",
              "\t<tr><th scope=col>&lt;chr&gt;</th><th scope=col>&lt;int&gt;</th></tr>\n",
              "</thead>\n",
              "<tbody>\n",
              "\t<tr><td>id               </td><td>  0</td></tr>\n",
              "\t<tr><td>gender           </td><td>  0</td></tr>\n",
              "\t<tr><td>age              </td><td>  0</td></tr>\n",
              "\t<tr><td>hypertension     </td><td>  0</td></tr>\n",
              "\t<tr><td>heart_disease    </td><td>  0</td></tr>\n",
              "\t<tr><td>ever_married     </td><td>  0</td></tr>\n",
              "\t<tr><td>work_type        </td><td>  0</td></tr>\n",
              "\t<tr><td>Residence_type   </td><td>  0</td></tr>\n",
              "\t<tr><td>avg_glucose_level</td><td>  0</td></tr>\n",
              "\t<tr><td>bmi              </td><td>201</td></tr>\n",
              "\t<tr><td>smoking_status   </td><td>  0</td></tr>\n",
              "\t<tr><td>stroke           </td><td>  0</td></tr>\n",
              "</tbody>\n",
              "</table>\n"
            ],
            "text/markdown": "\nA tibble: 12 × 2\n\n| Variable &lt;chr&gt; | n &lt;int&gt; |\n|---|---|\n| id                |   0 |\n| gender            |   0 |\n| age               |   0 |\n| hypertension      |   0 |\n| heart_disease     |   0 |\n| ever_married      |   0 |\n| work_type         |   0 |\n| Residence_type    |   0 |\n| avg_glucose_level |   0 |\n| bmi               | 201 |\n| smoking_status    |   0 |\n| stroke            |   0 |\n\n",
            "text/latex": "A tibble: 12 × 2\n\\begin{tabular}{ll}\n Variable & n\\\\\n <chr> & <int>\\\\\n\\hline\n\t id                &   0\\\\\n\t gender            &   0\\\\\n\t age               &   0\\\\\n\t hypertension      &   0\\\\\n\t heart\\_disease     &   0\\\\\n\t ever\\_married      &   0\\\\\n\t work\\_type         &   0\\\\\n\t Residence\\_type    &   0\\\\\n\t avg\\_glucose\\_level &   0\\\\\n\t bmi               & 201\\\\\n\t smoking\\_status    &   0\\\\\n\t stroke            &   0\\\\\n\\end{tabular}\n",
            "text/plain": [
              "   Variable          n  \n",
              "1  id                  0\n",
              "2  gender              0\n",
              "3  age                 0\n",
              "4  hypertension        0\n",
              "5  heart_disease       0\n",
              "6  ever_married        0\n",
              "7  work_type           0\n",
              "8  Residence_type      0\n",
              "9  avg_glucose_level   0\n",
              "10 bmi               201\n",
              "11 smoking_status      0\n",
              "12 stroke              0"
            ]
          },
          "metadata": {}
        }
      ]
    },
    {
      "cell_type": "code",
      "source": [
        "# Replace \"N/A\" and other placeholders with NA\n",
        "stroke_data$bmi[stroke_data$bmi == \"N/A\"] <- NA"
      ],
      "metadata": {
        "id": "leZCw7IsJiZT"
      },
      "execution_count": 21,
      "outputs": []
    },
    {
      "cell_type": "code",
      "source": [
        "# Convert 'bmi' from character to numeric (may introduce NAs for invalid entries)\n",
        "stroke_data$bmi <- as.numeric(stroke_data$bmi)\n",
        "\n",
        "# Check if conversion has worked correctly\n",
        "summary(stroke_data$bmi)"
      ],
      "metadata": {
        "colab": {
          "base_uri": "https://localhost:8080/",
          "height": 52
        },
        "id": "U36lfTH4KDN8",
        "outputId": "bfacb741-ed14-40dc-acd4-cafe5e374f70"
      },
      "execution_count": 22,
      "outputs": [
        {
          "output_type": "display_data",
          "data": {
            "text/plain": [
              "   Min. 1st Qu.  Median    Mean 3rd Qu.    Max.    NA's \n",
              "  10.30   23.50   28.10   28.89   33.10   97.60     201 "
            ]
          },
          "metadata": {}
        }
      ]
    },
    {
      "cell_type": "code",
      "source": [
        "# Impute missing BMI using kNN\n",
        "stroke_data <- kNN(stroke_data, variable = \"bmi\", k = 5, imp_var = FALSE)"
      ],
      "metadata": {
        "id": "MWM8J6REKDP7"
      },
      "execution_count": 31,
      "outputs": []
    },
    {
      "cell_type": "code",
      "source": [
        "sum(is.na(stroke_data$bmi))"
      ],
      "metadata": {
        "colab": {
          "base_uri": "https://localhost:8080/",
          "height": 34
        },
        "id": "SPEK0P49KDTL",
        "outputId": "b7b65b66-a166-4a1e-b983-324a91dac482"
      },
      "execution_count": 32,
      "outputs": [
        {
          "output_type": "display_data",
          "data": {
            "text/html": [
              "0"
            ],
            "text/markdown": "0",
            "text/latex": "0",
            "text/plain": [
              "[1] 0"
            ]
          },
          "metadata": {}
        }
      ]
    },
    {
      "cell_type": "code",
      "source": [
        "# Correlation matrix for numerical variables\n",
        "numeric_data <- stroke_data %>% select(age, avg_glucose_level, bmi)\n",
        "cor_matrix <- cor(numeric_data, use = \"complete.obs\")\n",
        "print(cor_matrix)"
      ],
      "metadata": {
        "colab": {
          "base_uri": "https://localhost:8080/"
        },
        "id": "KEq28QHKNPA4",
        "outputId": "2c6e43c2-2f56-4293-857d-43e9187e06a2"
      },
      "execution_count": 33,
      "outputs": [
        {
          "output_type": "stream",
          "name": "stdout",
          "text": [
            "                        age avg_glucose_level       bmi\n",
            "age               1.0000000         0.2381711 0.3360515\n",
            "avg_glucose_level 0.2381711         1.0000000 0.1775427\n",
            "bmi               0.3360515         0.1775427 1.0000000\n"
          ]
        }
      ]
    },
    {
      "cell_type": "code",
      "source": [
        "# For example, let's create a new feature 'age_group'\n",
        "stroke_data <- stroke_data %>%\n",
        "  mutate(age_group = cut(age, breaks = c(0, 18, 35, 50, 65, Inf), labels = c(\"0-18\", \"19-35\", \"36-50\", \"51-65\", \"65+\")))\n",
        "\n",
        "# Check the new feature\n",
        "head(stroke_data$age_group)"
      ],
      "metadata": {
        "colab": {
          "base_uri": "https://localhost:8080/",
          "height": 69
        },
        "id": "BuhHSvrKNPEh",
        "outputId": "9fa17ff4-71d3-4f6d-87bf-65628716574d"
      },
      "execution_count": 34,
      "outputs": [
        {
          "output_type": "display_data",
          "data": {
            "text/html": [
              "<style>\n",
              ".list-inline {list-style: none; margin:0; padding: 0}\n",
              ".list-inline>li {display: inline-block}\n",
              ".list-inline>li:not(:last-child)::after {content: \"\\00b7\"; padding: 0 .5ex}\n",
              "</style>\n",
              "<ol class=list-inline><li>65+</li><li>51-65</li><li>65+</li><li>36-50</li><li>65+</li><li>65+</li></ol>\n",
              "\n",
              "<details>\n",
              "\t<summary style=display:list-item;cursor:pointer>\n",
              "\t\t<strong>Levels</strong>:\n",
              "\t</summary>\n",
              "\t<style>\n",
              "\t.list-inline {list-style: none; margin:0; padding: 0}\n",
              "\t.list-inline>li {display: inline-block}\n",
              "\t.list-inline>li:not(:last-child)::after {content: \"\\00b7\"; padding: 0 .5ex}\n",
              "\t</style>\n",
              "\t<ol class=list-inline><li>'0-18'</li><li>'19-35'</li><li>'36-50'</li><li>'51-65'</li><li>'65+'</li></ol>\n",
              "</details>"
            ],
            "text/markdown": "1. 65+\n2. 51-65\n3. 65+\n4. 36-50\n5. 65+\n6. 65+\n\n\n\n**Levels**: 1. '0-18'\n2. '19-35'\n3. '36-50'\n4. '51-65'\n5. '65+'\n\n\n",
            "text/latex": "\\begin{enumerate*}\n\\item 65+\n\\item 51-65\n\\item 65+\n\\item 36-50\n\\item 65+\n\\item 65+\n\\end{enumerate*}\n\n\\emph{Levels}: \\begin{enumerate*}\n\\item '0-18'\n\\item '19-35'\n\\item '36-50'\n\\item '51-65'\n\\item '65+'\n\\end{enumerate*}\n",
            "text/plain": [
              "[1] 65+   51-65 65+   36-50 65+   65+  \n",
              "Levels: 0-18 19-35 36-50 51-65 65+"
            ]
          },
          "metadata": {}
        }
      ]
    },
    {
      "cell_type": "code",
      "source": [
        "# Split the data into training and testing sets\n",
        "set.seed(123)\n",
        "trainIndex <- createDataPartition(stroke_data$stroke, p = 0.8, list = FALSE)\n",
        "train_data <- stroke_data[trainIndex, ]\n",
        "test_data <- stroke_data[-trainIndex, ]\n",
        "\n"
      ],
      "metadata": {
        "id": "GurC-I8XNPTh"
      },
      "execution_count": 44,
      "outputs": []
    },
    {
      "cell_type": "code",
      "source": [
        "library(naniar)"
      ],
      "metadata": {
        "id": "Uu5v0o2dW9Ih"
      },
      "execution_count": 80,
      "outputs": []
    },
    {
      "cell_type": "code",
      "source": [
        "# Train a Random Forest model\n",
        "rf_model <- randomForest(stroke ~ ., data = train_data, ntree = 100, importance = TRUE)\n",
        "\n",
        "# Print the model\n",
        "print(rf_model)\n"
      ],
      "metadata": {
        "colab": {
          "base_uri": "https://localhost:8080/"
        },
        "id": "jZ3ZjpIFW9M7",
        "outputId": "0f00c55c-a9d9-427d-b35d-d9201554d186"
      },
      "execution_count": 81,
      "outputs": [
        {
          "output_type": "stream",
          "name": "stdout",
          "text": [
            "\n",
            "Call:\n",
            " randomForest(formula = stroke ~ ., data = train_data, ntree = 100,      importance = TRUE) \n",
            "               Type of random forest: classification\n",
            "                     Number of trees: 100\n",
            "No. of variables tried at each split: 3\n",
            "\n",
            "        OOB estimate of  error rate: 4.96%\n",
            "Confusion matrix:\n",
            "     0 1 class.error\n",
            "0 3885 4 0.001028542\n",
            "1  199 1 0.995000000\n"
          ]
        }
      ]
    },
    {
      "cell_type": "code",
      "source": [
        "# Make predictions on the test set\n",
        "predictions <- predict(rf_model, test_data)\n",
        "\n",
        "# Confusion matrix\n",
        "confusionMatrix(predictions, test_data$stroke)\n",
        "\n",
        "# ROC curve and AUC\n",
        "roc_curve <- roc(test_data$stroke, as.numeric(predictions))\n",
        "plot(roc_curve, main = \"ROC Curve\")\n",
        "auc(roc_curve)"
      ],
      "metadata": {
        "colab": {
          "base_uri": "https://localhost:8080/",
          "height": 993
        },
        "id": "dWR_44DfXQGW",
        "outputId": "d804d971-5801-4b11-f434-5d036077ebe5"
      },
      "execution_count": 82,
      "outputs": [
        {
          "output_type": "display_data",
          "data": {
            "text/plain": [
              "Confusion Matrix and Statistics\n",
              "\n",
              "          Reference\n",
              "Prediction   0   1\n",
              "         0 972  49\n",
              "         1   0   0\n",
              "                                         \n",
              "               Accuracy : 0.952          \n",
              "                 95% CI : (0.937, 0.9643)\n",
              "    No Information Rate : 0.952          \n",
              "    P-Value [Acc > NIR] : 0.5379         \n",
              "                                         \n",
              "                  Kappa : 0              \n",
              "                                         \n",
              " Mcnemar's Test P-Value : 7.025e-12      \n",
              "                                         \n",
              "            Sensitivity : 1.000          \n",
              "            Specificity : 0.000          \n",
              "         Pos Pred Value : 0.952          \n",
              "         Neg Pred Value :   NaN          \n",
              "             Prevalence : 0.952          \n",
              "         Detection Rate : 0.952          \n",
              "   Detection Prevalence : 1.000          \n",
              "      Balanced Accuracy : 0.500          \n",
              "                                         \n",
              "       'Positive' Class : 0              \n",
              "                                         "
            ]
          },
          "metadata": {}
        },
        {
          "output_type": "stream",
          "name": "stderr",
          "text": [
            "Setting levels: control = 0, case = 1\n",
            "\n",
            "Setting direction: controls < cases\n",
            "\n"
          ]
        },
        {
          "output_type": "display_data",
          "data": {
            "text/html": [
              "0.5"
            ],
            "text/markdown": "0.5",
            "text/latex": "0.5",
            "text/plain": [
              "Area under the curve: 0.5"
            ]
          },
          "metadata": {}
        },
        {
          "output_type": "display_data",
          "data": {
            "text/plain": [
              "Plot with title “ROC Curve”"
            ],
            "image/png": "[encoded data removed]"
          },
          "metadata": {
            "image/png": {
              "width": 420,
              "height": 420
            }
          }
        }
      ]
    },
    {
      "cell_type": "code",
      "source": [
        "# Compute confusion matrix\n",
        "conf_matrix <- confusionMatrix(predictions, test_data$stroke)\n",
        "\n",
        "# Print the confusion matrix\n",
        "print(conf_matrix)"
      ],
      "metadata": {
        "colab": {
          "base_uri": "https://localhost:8080/"
        },
        "id": "KQptrMPjXQJi",
        "outputId": "dc4e1a55-e145-41f8-9767-be1352846ca3"
      },
      "execution_count": 101,
      "outputs": [
        {
          "output_type": "stream",
          "name": "stdout",
          "text": [
            "Confusion Matrix and Statistics\n",
            "\n",
            "          Reference\n",
            "Prediction   0   1\n",
            "         0 972  49\n",
            "         1   0   0\n",
            "                                         \n",
            "               Accuracy : 0.952          \n",
            "                 95% CI : (0.937, 0.9643)\n",
            "    No Information Rate : 0.952          \n",
            "    P-Value [Acc > NIR] : 0.5379         \n",
            "                                         \n",
            "                  Kappa : 0              \n",
            "                                         \n",
            " Mcnemar's Test P-Value : 7.025e-12      \n",
            "                                         \n",
            "            Sensitivity : 1.000          \n",
            "            Specificity : 0.000          \n",
            "         Pos Pred Value : 0.952          \n",
            "         Neg Pred Value :   NaN          \n",
            "             Prevalence : 0.952          \n",
            "         Detection Rate : 0.952          \n",
            "   Detection Prevalence : 1.000          \n",
            "      Balanced Accuracy : 0.500          \n",
            "                                         \n",
            "       'Positive' Class : 0              \n",
            "                                         \n"
          ]
        }
      ]
    },
    {
      "cell_type": "code",
      "source": [
        "# Extract the confusion matrix table\n",
        "conf_matrix_table <- as.data.frame(conf_matrix$table)\n",
        "\n",
        "# Rename columns for clarity\n",
        "colnames(conf_matrix_table) <- c(\"Predicted\", \"Actual\", \"Freq\")\n",
        "\n",
        "# Plot the confusion matrix\n",
        "ggplot(data = conf_matrix_table, aes(x = Predicted, y = Actual, fill = Freq)) +\n",
        "  geom_tile() +\n",
        "  geom_text(aes(label = Freq), color = \"white\", size = 6) +\n",
        "  scale_fill_gradient(low = \"lightblue\", high = \"darkblue\") +\n",
        "  labs(title = \"Confusion Matrix\", x = \"Predicted\", y = \"Actual\") +\n",
        "  theme_minimal()"
      ],
      "metadata": {
        "colab": {
          "base_uri": "https://localhost:8080/",
          "height": 437
        },
        "id": "Arv0WlySXQMz",
        "outputId": "26a8dcbe-995c-4c79-9958-518f9db65919"
      },
      "execution_count": 84,
      "outputs": [
        {
          "output_type": "display_data",
          "data": {
            "text/plain": [
              "plot without title"
            ],
            "image/png": "[encoded data removed]"
          },
          "metadata": {
            "image/png": {
              "width": 420,
              "height": 420
            }
          }
        }
      ]
    },
    {
      "cell_type": "code",
      "source": [
        "# Train the logistic regression model\n",
        "logistic_model <- glm(stroke ~ ., data = train_data, family = binomial)\n",
        "\n",
        "# Summarize the model\n",
        "summary(logistic_model)"
      ],
      "metadata": {
        "colab": {
          "base_uri": "https://localhost:8080/",
          "height": 677
        },
        "id": "ClrU5jEKXhd_",
        "outputId": "3845c58a-f5e6-45f2-e1a4-b95503c9fb51"
      },
      "execution_count": 85,
      "outputs": [
        {
          "output_type": "display_data",
          "data": {
            "text/plain": [
              "\n",
              "Call:\n",
              "glm(formula = stroke ~ ., family = binomial, data = train_data)\n",
              "\n",
              "Coefficients:\n",
              "                             Estimate Std. Error z value Pr(>|z|)    \n",
              "(Intercept)                -6.469e+00  8.233e-01  -7.858 3.91e-15 ***\n",
              "id                         -1.990e-06  3.578e-06  -0.556  0.57816    \n",
              "genderMale                  4.326e-02  1.576e-01   0.274  0.78372    \n",
              "genderOther                -1.211e+01  6.523e+03  -0.002  0.99852    \n",
              "age                         7.492e-02  1.723e-02   4.350 1.36e-05 ***\n",
              "hypertension1               2.644e-01  1.886e-01   1.402  0.16095    \n",
              "heart_disease1              2.851e-01  2.142e-01   1.331  0.18307    \n",
              "ever_marriedYes            -3.415e-01  2.574e-01  -1.327  0.18463    \n",
              "work_typeGovt_job          -1.358e+01  4.796e+02  -0.028  0.97741    \n",
              "work_typeNever_worked      -2.237e+01  1.369e+03  -0.016  0.98697    \n",
              "work_typePrivate           -1.337e+01  4.796e+02  -0.028  0.97777    \n",
              "work_typeSelf-employed     -1.381e+01  4.796e+02  -0.029  0.97703    \n",
              "Residence_typeUrban         1.520e-01  1.543e-01   0.986  0.32438    \n",
              "avg_glucose_level           4.266e-03  1.339e-03   3.187  0.00144 ** \n",
              "bmi                        -3.321e-03  1.268e-02  -0.262  0.79333    \n",
              "smoking_statusnever smoked -2.443e-01  1.979e-01  -1.234  0.21704    \n",
              "smoking_statussmokes        1.710e-01  2.341e-01   0.731  0.46507    \n",
              "smoking_statusUnknown      -7.818e-02  2.315e-01  -0.338  0.73554    \n",
              "age_group19-35              1.100e+01  4.796e+02   0.023  0.98170    \n",
              "age_group36-50              1.264e+01  4.796e+02   0.026  0.97897    \n",
              "age_group51-65              1.279e+01  4.796e+02   0.027  0.97872    \n",
              "age_group65+                1.248e+01  4.796e+02   0.026  0.97924    \n",
              "---\n",
              "Signif. codes:  0 ‘***’ 0.001 ‘**’ 0.01 ‘*’ 0.05 ‘.’ 0.1 ‘ ’ 1\n",
              "\n",
              "(Dispersion parameter for binomial family taken to be 1)\n",
              "\n",
              "    Null deviance: 1597.1  on 4088  degrees of freedom\n",
              "Residual deviance: 1272.5  on 4067  degrees of freedom\n",
              "AIC: 1316.5\n",
              "\n",
              "Number of Fisher Scoring iterations: 17\n"
            ]
          },
          "metadata": {}
        }
      ]
    },
    {
      "cell_type": "code",
      "source": [
        "# Predict probabilities on the test set\n",
        "predicted_probs <- predict(logistic_model, test_data, type = \"response\")\n",
        "\n",
        "# Convert probabilities to binary predictions (0 or 1)\n",
        "predicted_classes <- ifelse(predicted_probs > 0.5, 1, 0)\n",
        "predicted_classes <- as.factor(predicted_classes)"
      ],
      "metadata": {
        "id": "NqHP6SEsXhiB"
      },
      "execution_count": 86,
      "outputs": []
    },
    {
      "cell_type": "code",
      "source": [
        "# Compute confusion matrix\n",
        "conf_matrix <- confusionMatrix(predicted_classes, test_data$stroke)\n",
        "\n",
        "# Print the confusion matrix\n",
        "print(conf_matrix)"
      ],
      "metadata": {
        "colab": {
          "base_uri": "https://localhost:8080/"
        },
        "id": "lYjNIQBRXimP",
        "outputId": "97576e40-595e-4997-8a06-83d83b42ea00"
      },
      "execution_count": 87,
      "outputs": [
        {
          "output_type": "stream",
          "name": "stderr",
          "text": [
            "Warning message in confusionMatrix.default(predicted_classes, test_data$stroke):\n",
            "“Levels are not in the same order for reference and data. Refactoring data to match.”\n"
          ]
        },
        {
          "output_type": "stream",
          "name": "stdout",
          "text": [
            "Confusion Matrix and Statistics\n",
            "\n",
            "          Reference\n",
            "Prediction   0   1\n",
            "         0 972  49\n",
            "         1   0   0\n",
            "                                         \n",
            "               Accuracy : 0.952          \n",
            "                 95% CI : (0.937, 0.9643)\n",
            "    No Information Rate : 0.952          \n",
            "    P-Value [Acc > NIR] : 0.5379         \n",
            "                                         \n",
            "                  Kappa : 0              \n",
            "                                         \n",
            " Mcnemar's Test P-Value : 7.025e-12      \n",
            "                                         \n",
            "            Sensitivity : 1.000          \n",
            "            Specificity : 0.000          \n",
            "         Pos Pred Value : 0.952          \n",
            "         Neg Pred Value :   NaN          \n",
            "             Prevalence : 0.952          \n",
            "         Detection Rate : 0.952          \n",
            "   Detection Prevalence : 1.000          \n",
            "      Balanced Accuracy : 0.500          \n",
            "                                         \n",
            "       'Positive' Class : 0              \n",
            "                                         \n"
          ]
        }
      ]
    },
    {
      "cell_type": "code",
      "source": [
        "# Extract the confusion matrix table\n",
        "conf_matrix_table <- as.data.frame(conf_matrix$table)\n",
        "\n",
        "# Rename columns for clarity\n",
        "colnames(conf_matrix_table) <- c(\"Predicted\", \"Actual\", \"Freq\")\n",
        "\n",
        "# Plot the confusion matrix\n",
        "ggplot(data = conf_matrix_table, aes(x = Predicted, y = Actual, fill = Freq)) +\n",
        "  geom_tile() +\n",
        "  geom_text(aes(label = Freq), color = \"white\", size = 6) +\n",
        "  scale_fill_gradient(low = \"lightgreen\", high = \"darkblue\") +\n",
        "  labs(title = \"Confusion Matrix for Logistic Regression\", x = \"Predicted\", y = \"Actual\") +\n",
        "  theme_minimal()"
      ],
      "metadata": {
        "colab": {
          "base_uri": "https://localhost:8080/",
          "height": 437
        },
        "id": "cYswcVoXYZgw",
        "outputId": "6539b524-1ed6-473f-de5a-105c0c6e1c29"
      },
      "execution_count": 91,
      "outputs": [
        {
          "output_type": "display_data",
          "data": {
            "text/plain": [
              "plot without title"
            ],
            "image/png": "[encoded data removed]"
          },
          "metadata": {
            "image/png": {
              "width": 420,
              "height": 420
            }
          }
        }
      ]
    },
    {
      "cell_type": "code",
      "source": [
        "install.packages(\"xgboost\")"
      ],
      "metadata": {
        "colab": {
          "base_uri": "https://localhost:8080/"
        },
        "id": "e7jlSSdCZOZD",
        "outputId": "e5a63485-3b2d-42e9-b9a5-9441259c6f8d"
      },
      "execution_count": 93,
      "outputs": [
        {
          "output_type": "stream",
          "name": "stderr",
          "text": [
            "Installing package into ‘/usr/local/lib/R/site-library’\n",
            "(as ‘lib’ is unspecified)\n",
            "\n"
          ]
        }
      ]
    },
    {
      "cell_type": "code",
      "source": [
        "library(xgboost)"
      ],
      "metadata": {
        "colab": {
          "base_uri": "https://localhost:8080/"
        },
        "id": "3nFU_sqSZd52",
        "outputId": "ec201541-3399-4239-8d19-dfd810151ac0"
      },
      "execution_count": 94,
      "outputs": [
        {
          "output_type": "stream",
          "name": "stderr",
          "text": [
            "\n",
            "Attaching package: ‘xgboost’\n",
            "\n",
            "\n",
            "The following object is masked from ‘package:dplyr’:\n",
            "\n",
            "    slice\n",
            "\n",
            "\n"
          ]
        }
      ]
    },
    {
      "cell_type": "code",
      "source": [
        "# Convert categorical variables to numeric using one-hot encoding\n",
        "stroke_data_encoded <- model.matrix(~ . - 1, data = stroke_data)\n",
        "\n",
        "# Separate features and target variable\n",
        "X <- stroke_data_encoded[, -which(colnames(stroke_data_encoded) == \"stroke1\")]\n",
        "y <- stroke_data_encoded[, \"stroke1\"]\n",
        "\n",
        "# Split the data into training and testing sets\n",
        "set.seed(123)\n",
        "trainIndex <- createDataPartition(y, p = 0.8, list = FALSE)\n",
        "X_train <- X[trainIndex, ]\n",
        "X_test <- X[-trainIndex, ]\n",
        "y_train <- y[trainIndex]\n",
        "y_test <- y[-trainIndex]"
      ],
      "metadata": {
        "id": "i-GNOIXhZd85"
      },
      "execution_count": 95,
      "outputs": []
    },
    {
      "cell_type": "code",
      "source": [
        "# Convert data to DMatrix (XGBoost's internal data structure)\n",
        "dtrain <- xgb.DMatrix(data = X_train, label = y_train)\n",
        "dtest <- xgb.DMatrix(data = X_test, label = y_test)\n",
        "\n",
        "# Set parameters for XGBoost\n",
        "params <- list(\n",
        "  objective = \"binary:logistic\", # Binary classification\n",
        "  eval_metric = \"logloss\",       # Logarithmic loss\n",
        "  max_depth = 6,                 # Maximum depth of a tree\n",
        "  eta = 0.1,                     # Learning rate\n",
        "  subsample = 0.8,               # Subsample ratio\n",
        "  colsample_bytree = 0.8         # Column subsample ratio\n",
        ")\n",
        "\n",
        "# Train the XGBoost model\n",
        "xgb_model <- xgb.train(\n",
        "  params = params,\n",
        "  data = dtrain,\n",
        "  nrounds = 100,                 # Number of boosting rounds\n",
        "  watchlist = list(train = dtrain, test = dtest),\n",
        "  early_stopping_rounds = 10,    # Stop if no improvement for 10 rounds\n",
        "  verbose = 1                    # Print progress\n",
        ")"
      ],
      "metadata": {
        "colab": {
          "base_uri": "https://localhost:8080/"
        },
        "id": "c8_KjjRaZeAu",
        "outputId": "21bc4490-a6d4-4ffb-a895-f4c9d17aab07"
      },
      "execution_count": 96,
      "outputs": [
        {
          "output_type": "stream",
          "name": "stdout",
          "text": [
            "[1]\ttrain-logloss:0.613132\ttest-logloss:0.616193 \n",
            "Multiple eval metrics are present. Will use test_logloss for early stopping.\n",
            "Will train until test_logloss hasn't improved in 10 rounds.\n",
            "\n",
            "[2]\ttrain-logloss:0.547291\ttest-logloss:0.552443 \n",
            "[3]\ttrain-logloss:0.492354\ttest-logloss:0.500124 \n",
            "[4]\ttrain-logloss:0.445626\ttest-logloss:0.455430 \n",
            "[5]\ttrain-logloss:0.406062\ttest-logloss:0.417424 \n",
            "[6]\ttrain-logloss:0.372074\ttest-logloss:0.384886 \n",
            "[7]\ttrain-logloss:0.342674\ttest-logloss:0.357122 \n",
            "[8]\ttrain-logloss:0.316348\ttest-logloss:0.333393 \n",
            "[9]\ttrain-logloss:0.293716\ttest-logloss:0.313111 \n",
            "[10]\ttrain-logloss:0.274253\ttest-logloss:0.295066 \n",
            "[11]\ttrain-logloss:0.256481\ttest-logloss:0.280166 \n",
            "[12]\ttrain-logloss:0.241025\ttest-logloss:0.267283 \n",
            "[13]\ttrain-logloss:0.227225\ttest-logloss:0.255743 \n",
            "[14]\ttrain-logloss:0.215343\ttest-logloss:0.245186 \n",
            "[15]\ttrain-logloss:0.204051\ttest-logloss:0.236449 \n",
            "[16]\ttrain-logloss:0.193912\ttest-logloss:0.228815 \n",
            "[17]\ttrain-logloss:0.184955\ttest-logloss:0.222120 \n",
            "[18]\ttrain-logloss:0.176897\ttest-logloss:0.216202 \n",
            "[19]\ttrain-logloss:0.169873\ttest-logloss:0.211964 \n",
            "[20]\ttrain-logloss:0.163255\ttest-logloss:0.207396 \n",
            "[21]\ttrain-logloss:0.157314\ttest-logloss:0.203360 \n",
            "[22]\ttrain-logloss:0.152307\ttest-logloss:0.199798 \n",
            "[23]\ttrain-logloss:0.147488\ttest-logloss:0.196902 \n",
            "[24]\ttrain-logloss:0.143332\ttest-logloss:0.194577 \n",
            "[25]\ttrain-logloss:0.138970\ttest-logloss:0.192290 \n",
            "[26]\ttrain-logloss:0.135117\ttest-logloss:0.190482 \n",
            "[27]\ttrain-logloss:0.131797\ttest-logloss:0.188859 \n",
            "[28]\ttrain-logloss:0.128863\ttest-logloss:0.187887 \n",
            "[29]\ttrain-logloss:0.126016\ttest-logloss:0.187082 \n",
            "[30]\ttrain-logloss:0.123003\ttest-logloss:0.186344 \n",
            "[31]\ttrain-logloss:0.120283\ttest-logloss:0.185536 \n",
            "[32]\ttrain-logloss:0.118019\ttest-logloss:0.185264 \n",
            "[33]\ttrain-logloss:0.115935\ttest-logloss:0.184739 \n",
            "[34]\ttrain-logloss:0.113854\ttest-logloss:0.184455 \n",
            "[35]\ttrain-logloss:0.111392\ttest-logloss:0.184364 \n",
            "[36]\ttrain-logloss:0.109735\ttest-logloss:0.184234 \n",
            "[37]\ttrain-logloss:0.107901\ttest-logloss:0.184453 \n",
            "[38]\ttrain-logloss:0.106029\ttest-logloss:0.183919 \n",
            "[39]\ttrain-logloss:0.104960\ttest-logloss:0.183942 \n",
            "[40]\ttrain-logloss:0.103479\ttest-logloss:0.184163 \n",
            "[41]\ttrain-logloss:0.102261\ttest-logloss:0.184262 \n",
            "[42]\ttrain-logloss:0.101297\ttest-logloss:0.184285 \n",
            "[43]\ttrain-logloss:0.100231\ttest-logloss:0.184457 \n",
            "[44]\ttrain-logloss:0.098752\ttest-logloss:0.184349 \n",
            "[45]\ttrain-logloss:0.098111\ttest-logloss:0.184343 \n",
            "[46]\ttrain-logloss:0.097036\ttest-logloss:0.184548 \n",
            "[47]\ttrain-logloss:0.096084\ttest-logloss:0.184264 \n",
            "[48]\ttrain-logloss:0.095118\ttest-logloss:0.184158 \n",
            "Stopping. Best iteration:\n",
            "[38]\ttrain-logloss:0.106029\ttest-logloss:0.183919\n",
            "\n"
          ]
        }
      ]
    },
    {
      "cell_type": "code",
      "source": [
        "# Predict probabilities on the test set\n",
        "predicted_probs <- predict(xgb_model, dtest)\n",
        "\n",
        "# Convert probabilities to binary predictions (0 or 1)\n",
        "predicted_classes <- ifelse(predicted_probs > 0.5, 1, 0)\n",
        "predicted_classes <- as.factor(predicted_classes)\n",
        "y_test <- as.factor(y_test)"
      ],
      "metadata": {
        "id": "r_tENy8ScU1X"
      },
      "execution_count": 97,
      "outputs": []
    },
    {
      "cell_type": "code",
      "source": [
        "# Compute confusion matrix\n",
        "xgb_conf_matrix <- confusionMatrix(predicted_classes, y_test)\n",
        "\n",
        "# Print the confusion matrix\n",
        "print(xgb_conf_matrix)\n",
        "\n",
        "# Extract performance metrics\n",
        "xgb_accuracy <- xgb_conf_matrix$overall[\"Accuracy\"]\n",
        "xgb_precision <- xgb_conf_matrix$byClass[\"Pos Pred Value\"]\n",
        "xgb_recall <- xgb_conf_matrix$byClass[\"Sensitivity\"]\n",
        "xgb_f1 <- xgb_conf_matrix$byClass[\"F1\"]\n"
      ],
      "metadata": {
        "colab": {
          "base_uri": "https://localhost:8080/"
        },
        "id": "6rPqa71dceOv",
        "outputId": "a9340e40-db64-4e4d-8aba-980a66893d2c"
      },
      "execution_count": 99,
      "outputs": [
        {
          "output_type": "stream",
          "name": "stdout",
          "text": [
            "Confusion Matrix and Statistics\n",
            "\n",
            "          Reference\n",
            "Prediction   0   1\n",
            "         0 964  56\n",
            "         1   2   0\n",
            "                                          \n",
            "               Accuracy : 0.9432          \n",
            "                 95% CI : (0.9273, 0.9566)\n",
            "    No Information Rate : 0.9452          \n",
            "    P-Value [Acc > NIR] : 0.6411          \n",
            "                                          \n",
            "                  Kappa : -0.0038         \n",
            "                                          \n",
            " Mcnemar's Test P-Value : 3.421e-12       \n",
            "                                          \n",
            "            Sensitivity : 0.9979          \n",
            "            Specificity : 0.0000          \n",
            "         Pos Pred Value : 0.9451          \n",
            "         Neg Pred Value : 0.0000          \n",
            "             Prevalence : 0.9452          \n",
            "         Detection Rate : 0.9432          \n",
            "   Detection Prevalence : 0.9980          \n",
            "      Balanced Accuracy : 0.4990          \n",
            "                                          \n",
            "       'Positive' Class : 0               \n",
            "                                          \n"
          ]
        }
      ]
    },
    {
      "cell_type": "code",
      "source": [
        "# Convert the confusion matrix to a data frame\n",
        "xgb_conf_matrix_table <- as.data.frame(xgb_conf_matrix$table)\n",
        "colnames(xgb_conf_matrix_table) <- c(\"Predicted\", \"Actual\", \"Freq\")\n",
        "\n",
        "# Plot the confusion matrix\n",
        "p_xgb <- ggplot(data = xgb_conf_matrix_table, aes(x = Predicted, y = Actual, fill = Freq)) +\n",
        "  geom_tile() +\n",
        "  geom_text(aes(label = Freq), color = \"white\", size = 6) +\n",
        "  scale_fill_gradient(low = \"lightblue\", high = \"darkblue\") +\n",
        "  labs(title = \"XGBoost Confusion Matrix\", x = \"Predicted\", y = \"Actual\") +\n",
        "  theme_minimal()\n",
        "\n",
        "# Display the plot\n",
        "print(p_xgb)"
      ],
      "metadata": {
        "colab": {
          "base_uri": "https://localhost:8080/",
          "height": 437
        },
        "id": "qQ3htHkOcp-s",
        "outputId": "d70566a4-fc10-4c2f-ec0c-3ca634daab52"
      },
      "execution_count": 100,
      "outputs": [
        {
          "output_type": "display_data",
          "data": {
            "text/plain": [
              "plot without title"
            ],
            "image/png": "[encoded data removed]"
          },
          "metadata": {
            "image/png": {
              "width": 420,
              "height": 420
            }
          }
        }
      ]
    },
    {
      "cell_type": "code",
      "source": [
        "# Compute ROC curve\n",
        "roc_curve <- roc(y_test, predicted_probs)\n",
        "\n",
        "# Calculate AUC\n",
        "auc_value <- auc(roc_curve)\n",
        "\n",
        "# Print AUC\n",
        "cat(\"AUC:\", auc_value, \"\\n\")"
      ],
      "metadata": {
        "colab": {
          "base_uri": "https://localhost:8080/"
        },
        "id": "mufN9vQ1cjXa",
        "outputId": "9d12ecc6-4225-41cc-fdb6-88a3d9ef7774"
      },
      "execution_count": 102,
      "outputs": [
        {
          "output_type": "stream",
          "name": "stderr",
          "text": [
            "Setting levels: control = 0, case = 1\n",
            "\n",
            "Setting direction: controls < cases\n",
            "\n"
          ]
        },
        {
          "output_type": "stream",
          "name": "stdout",
          "text": [
            "AUC: 0.8133134 \n"
          ]
        }
      ]
    },
    {
      "cell_type": "code",
      "source": [
        "# Plot ROC curve\n",
        "plot(roc_curve, main = \"ROC Curve for XGBoost Model\", col = \"blue\", lwd = 2)\n",
        "\n",
        "# Add AUC to the plot\n",
        "legend(\"bottomright\", legend = paste(\"AUC =\", round(auc_value, 3)), col = \"blue\", lwd = 2)"
      ],
      "metadata": {
        "colab": {
          "base_uri": "https://localhost:8080/",
          "height": 437
        },
        "id": "-80DrGzIuaMO",
        "outputId": "0ebfea3b-8e34-4e99-a178-97f48826aa4c"
      },
      "execution_count": 103,
      "outputs": [
        {
          "output_type": "display_data",
          "data": {
            "text/plain": [
              "Plot with title “ROC Curve for XGBoost Model”"
            ],
            "image/png": "[encoded data removed]"
          },
          "metadata": {
            "image/png": {
              "width": 420,
              "height": 420
            }
          }
        }
      ]
    },
    {
      "cell_type": "code",
      "source": [
        "# Random Forest ROC curve\n",
        "rf_predicted_probs <- predict(rf_model, test_data, type = \"prob\")[, 2]\n",
        "rf_roc_curve <- roc(test_data$stroke, rf_predicted_probs)\n",
        "\n",
        "# Logistic Regression ROC curve\n",
        "logistic_predicted_probs <- predict(logistic_model, test_data, type = \"response\")\n",
        "logistic_roc_curve <- roc(test_data$stroke, logistic_predicted_probs)\n",
        "\n",
        "# XGBoost ROC curve (already computed)\n",
        "xgb_roc_curve <- roc_curve"
      ],
      "metadata": {
        "colab": {
          "base_uri": "https://localhost:8080/"
        },
        "id": "Yy2HbDM0uhoC",
        "outputId": "99a3ad97-f3d9-4b0d-f4b5-a3cb447a8fcb"
      },
      "execution_count": 104,
      "outputs": [
        {
          "output_type": "stream",
          "name": "stderr",
          "text": [
            "Setting levels: control = 0, case = 1\n",
            "\n",
            "Setting direction: controls < cases\n",
            "\n",
            "Setting levels: control = 0, case = 1\n",
            "\n",
            "Setting direction: controls < cases\n",
            "\n"
          ]
        }
      ]
    },
    {
      "cell_type": "code",
      "source": [
        "# Plot ROC curves\n",
        "plot(rf_roc_curve, col = \"red\", lwd = 2, main = \"ROC Curves Comparison\")\n",
        "lines(logistic_roc_curve, col = \"green\", lwd = 2)\n",
        "lines(xgb_roc_curve, col = \"blue\", lwd = 2)\n",
        "\n",
        "# Add legend\n",
        "legend(\"bottomright\",\n",
        "       legend = c(paste(\"Random Forest (AUC =\", round(auc(rf_roc_curve), 3)),\n",
        "                     paste(\"Logistic Regression (AUC =\", round(auc(logistic_roc_curve), 3)),\n",
        "                     paste(\"XGBoost (AUC =\", round(auc(xgb_roc_curve), 3))),\n",
        "       col = c(\"red\", \"green\", \"blue\"), lwd = 2)"
      ],
      "metadata": {
        "colab": {
          "base_uri": "https://localhost:8080/",
          "height": 437
        },
        "id": "1iu1JsRBuv3_",
        "outputId": "748ce120-6412-4bff-bf41-c1a9ef198498"
      },
      "execution_count": 105,
      "outputs": [
        {
          "output_type": "display_data",
          "data": {
            "text/plain": [
              "Plot with title “ROC Curves Comparison”"
            ],
            "image/png": "[encoded data removed]"
          },
          "metadata": {
            "image/png": {
              "width": 420,
              "height": 420
            }
          }
        }
      ]
    }
  ]
}